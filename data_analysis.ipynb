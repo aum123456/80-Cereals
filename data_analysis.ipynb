{
 "cells": [
  {
   "attachments": {},
   "cell_type": "markdown",
   "id": "9bb00350",
   "metadata": {},
   "source": [
    "# 80 Cereals - EDA"
   ]
  },
  {
   "cell_type": "markdown",
   "id": "ad03de44",
   "metadata": {},
   "source": [
    "# Import libraries"
   ]
  },
  {
   "cell_type": "code",
   "execution_count": 1,
   "id": "584a648e",
   "metadata": {},
   "outputs": [],
   "source": [
    "import numpy as np\n",
    "import pandas as pd\n",
    "import matplotlib.pyplot as plt\n",
    "import seaborn as sns\n",
    "%matplotlib inline"
   ]
  },
  {
   "cell_type": "markdown",
   "id": "c9c75d77",
   "metadata": {},
   "source": [
    "# Load the dataset"
   ]
  },
  {
   "cell_type": "code",
   "execution_count": 2,
   "id": "72752f2a",
   "metadata": {},
   "outputs": [
    {
     "data": {
      "text/html": [
       "<div>\n",
       "<style scoped>\n",
       "    .dataframe tbody tr th:only-of-type {\n",
       "        vertical-align: middle;\n",
       "    }\n",
       "\n",
       "    .dataframe tbody tr th {\n",
       "        vertical-align: top;\n",
       "    }\n",
       "\n",
       "    .dataframe thead th {\n",
       "        text-align: right;\n",
       "    }\n",
       "</style>\n",
       "<table border=\"1\" class=\"dataframe\">\n",
       "  <thead>\n",
       "    <tr style=\"text-align: right;\">\n",
       "      <th></th>\n",
       "      <th>name</th>\n",
       "      <th>mfr</th>\n",
       "      <th>type</th>\n",
       "      <th>calories</th>\n",
       "      <th>protein</th>\n",
       "      <th>fat</th>\n",
       "      <th>sodium</th>\n",
       "      <th>fiber</th>\n",
       "      <th>carbo</th>\n",
       "      <th>sugars</th>\n",
       "      <th>potass</th>\n",
       "      <th>vitamins</th>\n",
       "      <th>shelf</th>\n",
       "      <th>weight</th>\n",
       "      <th>cups</th>\n",
       "      <th>rating</th>\n",
       "    </tr>\n",
       "  </thead>\n",
       "  <tbody>\n",
       "    <tr>\n",
       "      <th>0</th>\n",
       "      <td>100% Bran</td>\n",
       "      <td>N</td>\n",
       "      <td>C</td>\n",
       "      <td>70</td>\n",
       "      <td>4</td>\n",
       "      <td>1</td>\n",
       "      <td>130</td>\n",
       "      <td>10.0</td>\n",
       "      <td>5.0</td>\n",
       "      <td>6</td>\n",
       "      <td>280</td>\n",
       "      <td>25</td>\n",
       "      <td>3</td>\n",
       "      <td>1.0</td>\n",
       "      <td>0.33</td>\n",
       "      <td>68.402973</td>\n",
       "    </tr>\n",
       "    <tr>\n",
       "      <th>1</th>\n",
       "      <td>100% Natural Bran</td>\n",
       "      <td>Q</td>\n",
       "      <td>C</td>\n",
       "      <td>120</td>\n",
       "      <td>3</td>\n",
       "      <td>5</td>\n",
       "      <td>15</td>\n",
       "      <td>2.0</td>\n",
       "      <td>8.0</td>\n",
       "      <td>8</td>\n",
       "      <td>135</td>\n",
       "      <td>0</td>\n",
       "      <td>3</td>\n",
       "      <td>1.0</td>\n",
       "      <td>1.00</td>\n",
       "      <td>33.983679</td>\n",
       "    </tr>\n",
       "    <tr>\n",
       "      <th>2</th>\n",
       "      <td>All-Bran</td>\n",
       "      <td>K</td>\n",
       "      <td>C</td>\n",
       "      <td>70</td>\n",
       "      <td>4</td>\n",
       "      <td>1</td>\n",
       "      <td>260</td>\n",
       "      <td>9.0</td>\n",
       "      <td>7.0</td>\n",
       "      <td>5</td>\n",
       "      <td>320</td>\n",
       "      <td>25</td>\n",
       "      <td>3</td>\n",
       "      <td>1.0</td>\n",
       "      <td>0.33</td>\n",
       "      <td>59.425505</td>\n",
       "    </tr>\n",
       "    <tr>\n",
       "      <th>3</th>\n",
       "      <td>All-Bran with Extra Fiber</td>\n",
       "      <td>K</td>\n",
       "      <td>C</td>\n",
       "      <td>50</td>\n",
       "      <td>4</td>\n",
       "      <td>0</td>\n",
       "      <td>140</td>\n",
       "      <td>14.0</td>\n",
       "      <td>8.0</td>\n",
       "      <td>0</td>\n",
       "      <td>330</td>\n",
       "      <td>25</td>\n",
       "      <td>3</td>\n",
       "      <td>1.0</td>\n",
       "      <td>0.50</td>\n",
       "      <td>93.704912</td>\n",
       "    </tr>\n",
       "    <tr>\n",
       "      <th>4</th>\n",
       "      <td>Almond Delight</td>\n",
       "      <td>R</td>\n",
       "      <td>C</td>\n",
       "      <td>110</td>\n",
       "      <td>2</td>\n",
       "      <td>2</td>\n",
       "      <td>200</td>\n",
       "      <td>1.0</td>\n",
       "      <td>14.0</td>\n",
       "      <td>8</td>\n",
       "      <td>-1</td>\n",
       "      <td>25</td>\n",
       "      <td>3</td>\n",
       "      <td>1.0</td>\n",
       "      <td>0.75</td>\n",
       "      <td>34.384843</td>\n",
       "    </tr>\n",
       "  </tbody>\n",
       "</table>\n",
       "</div>"
      ],
      "text/plain": [
       "                        name mfr type  calories  protein  fat  sodium  fiber  \\\n",
       "0                  100% Bran   N    C        70        4    1     130   10.0   \n",
       "1          100% Natural Bran   Q    C       120        3    5      15    2.0   \n",
       "2                   All-Bran   K    C        70        4    1     260    9.0   \n",
       "3  All-Bran with Extra Fiber   K    C        50        4    0     140   14.0   \n",
       "4             Almond Delight   R    C       110        2    2     200    1.0   \n",
       "\n",
       "   carbo  sugars  potass  vitamins  shelf  weight  cups     rating  \n",
       "0    5.0       6     280        25      3     1.0  0.33  68.402973  \n",
       "1    8.0       8     135         0      3     1.0  1.00  33.983679  \n",
       "2    7.0       5     320        25      3     1.0  0.33  59.425505  \n",
       "3    8.0       0     330        25      3     1.0  0.50  93.704912  \n",
       "4   14.0       8      -1        25      3     1.0  0.75  34.384843  "
      ]
     },
     "execution_count": 2,
     "metadata": {},
     "output_type": "execute_result"
    }
   ],
   "source": [
    "df = pd.read_csv(\"./cereal.csv\")\n",
    "df.head()"
   ]
  },
  {
   "cell_type": "markdown",
   "id": "f5d1587b",
   "metadata": {},
   "source": [
    "# Knowing the dataframe"
   ]
  },
  {
   "cell_type": "code",
   "execution_count": 3,
   "id": "b8762293",
   "metadata": {},
   "outputs": [
    {
     "data": {
      "text/plain": [
       "RangeIndex(start=0, stop=77, step=1)"
      ]
     },
     "execution_count": 3,
     "metadata": {},
     "output_type": "execute_result"
    }
   ],
   "source": [
    "df.index"
   ]
  },
  {
   "cell_type": "code",
   "execution_count": 4,
   "id": "d1bf0828",
   "metadata": {},
   "outputs": [
    {
     "data": {
      "text/plain": [
       "Index(['name', 'mfr', 'type', 'calories', 'protein', 'fat', 'sodium', 'fiber',\n",
       "       'carbo', 'sugars', 'potass', 'vitamins', 'shelf', 'weight', 'cups',\n",
       "       'rating'],\n",
       "      dtype='object')"
      ]
     },
     "execution_count": 4,
     "metadata": {},
     "output_type": "execute_result"
    }
   ],
   "source": [
    "df.columns"
   ]
  },
  {
   "cell_type": "code",
   "execution_count": 5,
   "id": "3db10371",
   "metadata": {
    "scrolled": false
   },
   "outputs": [
    {
     "name": "stdout",
     "output_type": "stream",
     "text": [
      "<class 'pandas.core.frame.DataFrame'>\n",
      "RangeIndex: 77 entries, 0 to 76\n",
      "Data columns (total 16 columns):\n",
      " #   Column    Non-Null Count  Dtype  \n",
      "---  ------    --------------  -----  \n",
      " 0   name      77 non-null     object \n",
      " 1   mfr       77 non-null     object \n",
      " 2   type      77 non-null     object \n",
      " 3   calories  77 non-null     int64  \n",
      " 4   protein   77 non-null     int64  \n",
      " 5   fat       77 non-null     int64  \n",
      " 6   sodium    77 non-null     int64  \n",
      " 7   fiber     77 non-null     float64\n",
      " 8   carbo     77 non-null     float64\n",
      " 9   sugars    77 non-null     int64  \n",
      " 10  potass    77 non-null     int64  \n",
      " 11  vitamins  77 non-null     int64  \n",
      " 12  shelf     77 non-null     int64  \n",
      " 13  weight    77 non-null     float64\n",
      " 14  cups      77 non-null     float64\n",
      " 15  rating    77 non-null     float64\n",
      "dtypes: float64(5), int64(8), object(3)\n",
      "memory usage: 9.8+ KB\n"
     ]
    }
   ],
   "source": [
    "df.info()"
   ]
  },
  {
   "cell_type": "code",
   "execution_count": 6,
   "id": "27f4c8f4",
   "metadata": {},
   "outputs": [
    {
     "data": {
      "text/html": [
       "<div>\n",
       "<style scoped>\n",
       "    .dataframe tbody tr th:only-of-type {\n",
       "        vertical-align: middle;\n",
       "    }\n",
       "\n",
       "    .dataframe tbody tr th {\n",
       "        vertical-align: top;\n",
       "    }\n",
       "\n",
       "    .dataframe thead th {\n",
       "        text-align: right;\n",
       "    }\n",
       "</style>\n",
       "<table border=\"1\" class=\"dataframe\">\n",
       "  <thead>\n",
       "    <tr style=\"text-align: right;\">\n",
       "      <th></th>\n",
       "      <th>calories</th>\n",
       "      <th>protein</th>\n",
       "      <th>fat</th>\n",
       "      <th>sodium</th>\n",
       "      <th>fiber</th>\n",
       "      <th>carbo</th>\n",
       "      <th>sugars</th>\n",
       "      <th>potass</th>\n",
       "      <th>vitamins</th>\n",
       "      <th>shelf</th>\n",
       "      <th>weight</th>\n",
       "      <th>cups</th>\n",
       "      <th>rating</th>\n",
       "    </tr>\n",
       "  </thead>\n",
       "  <tbody>\n",
       "    <tr>\n",
       "      <th>count</th>\n",
       "      <td>77.000000</td>\n",
       "      <td>77.000000</td>\n",
       "      <td>77.000000</td>\n",
       "      <td>77.000000</td>\n",
       "      <td>77.000000</td>\n",
       "      <td>77.000000</td>\n",
       "      <td>77.000000</td>\n",
       "      <td>77.000000</td>\n",
       "      <td>77.000000</td>\n",
       "      <td>77.000000</td>\n",
       "      <td>77.000000</td>\n",
       "      <td>77.000000</td>\n",
       "      <td>77.000000</td>\n",
       "    </tr>\n",
       "    <tr>\n",
       "      <th>mean</th>\n",
       "      <td>106.883117</td>\n",
       "      <td>2.545455</td>\n",
       "      <td>1.012987</td>\n",
       "      <td>159.675325</td>\n",
       "      <td>2.151948</td>\n",
       "      <td>14.597403</td>\n",
       "      <td>6.922078</td>\n",
       "      <td>96.077922</td>\n",
       "      <td>28.246753</td>\n",
       "      <td>2.207792</td>\n",
       "      <td>1.029610</td>\n",
       "      <td>0.821039</td>\n",
       "      <td>42.665705</td>\n",
       "    </tr>\n",
       "    <tr>\n",
       "      <th>std</th>\n",
       "      <td>19.484119</td>\n",
       "      <td>1.094790</td>\n",
       "      <td>1.006473</td>\n",
       "      <td>83.832295</td>\n",
       "      <td>2.383364</td>\n",
       "      <td>4.278956</td>\n",
       "      <td>4.444885</td>\n",
       "      <td>71.286813</td>\n",
       "      <td>22.342523</td>\n",
       "      <td>0.832524</td>\n",
       "      <td>0.150477</td>\n",
       "      <td>0.232716</td>\n",
       "      <td>14.047289</td>\n",
       "    </tr>\n",
       "    <tr>\n",
       "      <th>min</th>\n",
       "      <td>50.000000</td>\n",
       "      <td>1.000000</td>\n",
       "      <td>0.000000</td>\n",
       "      <td>0.000000</td>\n",
       "      <td>0.000000</td>\n",
       "      <td>-1.000000</td>\n",
       "      <td>-1.000000</td>\n",
       "      <td>-1.000000</td>\n",
       "      <td>0.000000</td>\n",
       "      <td>1.000000</td>\n",
       "      <td>0.500000</td>\n",
       "      <td>0.250000</td>\n",
       "      <td>18.042851</td>\n",
       "    </tr>\n",
       "    <tr>\n",
       "      <th>25%</th>\n",
       "      <td>100.000000</td>\n",
       "      <td>2.000000</td>\n",
       "      <td>0.000000</td>\n",
       "      <td>130.000000</td>\n",
       "      <td>1.000000</td>\n",
       "      <td>12.000000</td>\n",
       "      <td>3.000000</td>\n",
       "      <td>40.000000</td>\n",
       "      <td>25.000000</td>\n",
       "      <td>1.000000</td>\n",
       "      <td>1.000000</td>\n",
       "      <td>0.670000</td>\n",
       "      <td>33.174094</td>\n",
       "    </tr>\n",
       "    <tr>\n",
       "      <th>50%</th>\n",
       "      <td>110.000000</td>\n",
       "      <td>3.000000</td>\n",
       "      <td>1.000000</td>\n",
       "      <td>180.000000</td>\n",
       "      <td>2.000000</td>\n",
       "      <td>14.000000</td>\n",
       "      <td>7.000000</td>\n",
       "      <td>90.000000</td>\n",
       "      <td>25.000000</td>\n",
       "      <td>2.000000</td>\n",
       "      <td>1.000000</td>\n",
       "      <td>0.750000</td>\n",
       "      <td>40.400208</td>\n",
       "    </tr>\n",
       "    <tr>\n",
       "      <th>75%</th>\n",
       "      <td>110.000000</td>\n",
       "      <td>3.000000</td>\n",
       "      <td>2.000000</td>\n",
       "      <td>210.000000</td>\n",
       "      <td>3.000000</td>\n",
       "      <td>17.000000</td>\n",
       "      <td>11.000000</td>\n",
       "      <td>120.000000</td>\n",
       "      <td>25.000000</td>\n",
       "      <td>3.000000</td>\n",
       "      <td>1.000000</td>\n",
       "      <td>1.000000</td>\n",
       "      <td>50.828392</td>\n",
       "    </tr>\n",
       "    <tr>\n",
       "      <th>max</th>\n",
       "      <td>160.000000</td>\n",
       "      <td>6.000000</td>\n",
       "      <td>5.000000</td>\n",
       "      <td>320.000000</td>\n",
       "      <td>14.000000</td>\n",
       "      <td>23.000000</td>\n",
       "      <td>15.000000</td>\n",
       "      <td>330.000000</td>\n",
       "      <td>100.000000</td>\n",
       "      <td>3.000000</td>\n",
       "      <td>1.500000</td>\n",
       "      <td>1.500000</td>\n",
       "      <td>93.704912</td>\n",
       "    </tr>\n",
       "  </tbody>\n",
       "</table>\n",
       "</div>"
      ],
      "text/plain": [
       "         calories    protein        fat      sodium      fiber      carbo  \\\n",
       "count   77.000000  77.000000  77.000000   77.000000  77.000000  77.000000   \n",
       "mean   106.883117   2.545455   1.012987  159.675325   2.151948  14.597403   \n",
       "std     19.484119   1.094790   1.006473   83.832295   2.383364   4.278956   \n",
       "min     50.000000   1.000000   0.000000    0.000000   0.000000  -1.000000   \n",
       "25%    100.000000   2.000000   0.000000  130.000000   1.000000  12.000000   \n",
       "50%    110.000000   3.000000   1.000000  180.000000   2.000000  14.000000   \n",
       "75%    110.000000   3.000000   2.000000  210.000000   3.000000  17.000000   \n",
       "max    160.000000   6.000000   5.000000  320.000000  14.000000  23.000000   \n",
       "\n",
       "          sugars      potass    vitamins      shelf     weight       cups  \\\n",
       "count  77.000000   77.000000   77.000000  77.000000  77.000000  77.000000   \n",
       "mean    6.922078   96.077922   28.246753   2.207792   1.029610   0.821039   \n",
       "std     4.444885   71.286813   22.342523   0.832524   0.150477   0.232716   \n",
       "min    -1.000000   -1.000000    0.000000   1.000000   0.500000   0.250000   \n",
       "25%     3.000000   40.000000   25.000000   1.000000   1.000000   0.670000   \n",
       "50%     7.000000   90.000000   25.000000   2.000000   1.000000   0.750000   \n",
       "75%    11.000000  120.000000   25.000000   3.000000   1.000000   1.000000   \n",
       "max    15.000000  330.000000  100.000000   3.000000   1.500000   1.500000   \n",
       "\n",
       "          rating  \n",
       "count  77.000000  \n",
       "mean   42.665705  \n",
       "std    14.047289  \n",
       "min    18.042851  \n",
       "25%    33.174094  \n",
       "50%    40.400208  \n",
       "75%    50.828392  \n",
       "max    93.704912  "
      ]
     },
     "execution_count": 6,
     "metadata": {},
     "output_type": "execute_result"
    }
   ],
   "source": [
    "df.describe()"
   ]
  },
  {
   "cell_type": "code",
   "execution_count": 7,
   "id": "de42f046",
   "metadata": {},
   "outputs": [
    {
     "data": {
      "text/plain": [
       "(77, 16)"
      ]
     },
     "execution_count": 7,
     "metadata": {},
     "output_type": "execute_result"
    }
   ],
   "source": [
    "df.shape"
   ]
  },
  {
   "cell_type": "markdown",
   "id": "291a074b",
   "metadata": {},
   "source": [
    "# Cleaning the dataframe (ETL)"
   ]
  },
  {
   "cell_type": "markdown",
   "id": "bd1c5521",
   "metadata": {},
   "source": [
    "### Checking for nulls"
   ]
  },
  {
   "cell_type": "code",
   "execution_count": 8,
   "id": "9912fdfe",
   "metadata": {},
   "outputs": [
    {
     "name": "stdout",
     "output_type": "stream",
     "text": [
      "Number of nulls in name = 0\n",
      "Number of nulls in mfr = 0\n",
      "Number of nulls in type = 0\n",
      "Number of nulls in calories = 0\n",
      "Number of nulls in protein = 0\n",
      "Number of nulls in fat = 0\n",
      "Number of nulls in sodium = 0\n",
      "Number of nulls in fiber = 0\n",
      "Number of nulls in carbo = 0\n",
      "Number of nulls in sugars = 0\n",
      "Number of nulls in potass = 0\n",
      "Number of nulls in vitamins = 0\n",
      "Number of nulls in shelf = 0\n",
      "Number of nulls in weight = 0\n",
      "Number of nulls in cups = 0\n",
      "Number of nulls in rating = 0\n"
     ]
    }
   ],
   "source": [
    "for col_name in df.columns:\n",
    "    print(f\"Number of nulls in {col_name} = {df[col_name].isna().sum()}\")"
   ]
  },
  {
   "cell_type": "markdown",
   "id": "12b25075",
   "metadata": {},
   "source": [
    "### Checking for odd data points"
   ]
  },
  {
   "cell_type": "code",
   "execution_count": 9,
   "id": "9bd9ff58",
   "metadata": {},
   "outputs": [
    {
     "name": "stdout",
     "output_type": "stream",
     "text": [
      "Range of values in 'name' = 100% Bran, Wheaties Honey Gold\n",
      "Range of values in 'mfr' = A, R\n",
      "Range of values in 'type' = C, H\n",
      "Range of values in 'calories' = 50, 160\n",
      "Range of values in 'protein' = 1, 6\n",
      "Range of values in 'fat' = 0, 5\n",
      "Range of values in 'sodium' = 0, 320\n",
      "Range of values in 'fiber' = 0.0, 14.0\n",
      "Range of values in 'carbo' = -1.0, 23.0\n",
      "Range of values in 'sugars' = -1, 15\n",
      "Range of values in 'potass' = -1, 330\n",
      "Range of values in 'vitamins' = 0, 100\n",
      "Range of values in 'shelf' = 1, 3\n",
      "Range of values in 'weight' = 0.5, 1.5\n",
      "Range of values in 'cups' = 0.25, 1.5\n",
      "Range of values in 'rating' = 18.042851, 93.704912\n"
     ]
    }
   ],
   "source": [
    "for col_name in df.columns:\n",
    "    print(f\"Range of values in '{col_name}' = {df[col_name].min()}, {df[col_name].max()}\")"
   ]
  },
  {
   "cell_type": "markdown",
   "id": "4ded3f31",
   "metadata": {},
   "source": [
    "👆 We can see that the columns, `carbo`, `sugars` and `potass` contain negative values.\n",
    "\n",
    "Let's see which values exactly are negative:"
   ]
  },
  {
   "cell_type": "code",
   "execution_count": 10,
   "id": "0b99c0f2",
   "metadata": {},
   "outputs": [
    {
     "data": {
      "text/html": [
       "<div>\n",
       "<style scoped>\n",
       "    .dataframe tbody tr th:only-of-type {\n",
       "        vertical-align: middle;\n",
       "    }\n",
       "\n",
       "    .dataframe tbody tr th {\n",
       "        vertical-align: top;\n",
       "    }\n",
       "\n",
       "    .dataframe thead th {\n",
       "        text-align: right;\n",
       "    }\n",
       "</style>\n",
       "<table border=\"1\" class=\"dataframe\">\n",
       "  <thead>\n",
       "    <tr style=\"text-align: right;\">\n",
       "      <th></th>\n",
       "      <th>name</th>\n",
       "      <th>mfr</th>\n",
       "      <th>type</th>\n",
       "      <th>calories</th>\n",
       "      <th>protein</th>\n",
       "      <th>fat</th>\n",
       "      <th>sodium</th>\n",
       "      <th>fiber</th>\n",
       "      <th>carbo</th>\n",
       "      <th>sugars</th>\n",
       "      <th>potass</th>\n",
       "      <th>vitamins</th>\n",
       "      <th>shelf</th>\n",
       "      <th>weight</th>\n",
       "      <th>cups</th>\n",
       "      <th>rating</th>\n",
       "    </tr>\n",
       "  </thead>\n",
       "  <tbody>\n",
       "    <tr>\n",
       "      <th>57</th>\n",
       "      <td>Quaker Oatmeal</td>\n",
       "      <td>Q</td>\n",
       "      <td>H</td>\n",
       "      <td>100</td>\n",
       "      <td>5</td>\n",
       "      <td>2</td>\n",
       "      <td>0</td>\n",
       "      <td>2.7</td>\n",
       "      <td>-1.0</td>\n",
       "      <td>-1</td>\n",
       "      <td>110</td>\n",
       "      <td>0</td>\n",
       "      <td>1</td>\n",
       "      <td>1.0</td>\n",
       "      <td>0.67</td>\n",
       "      <td>50.828392</td>\n",
       "    </tr>\n",
       "  </tbody>\n",
       "</table>\n",
       "</div>"
      ],
      "text/plain": [
       "              name mfr type  calories  protein  fat  sodium  fiber  carbo  \\\n",
       "57  Quaker Oatmeal   Q    H       100        5    2       0    2.7   -1.0   \n",
       "\n",
       "    sugars  potass  vitamins  shelf  weight  cups     rating  \n",
       "57      -1     110         0      1     1.0  0.67  50.828392  "
      ]
     },
     "execution_count": 10,
     "metadata": {},
     "output_type": "execute_result"
    }
   ],
   "source": [
    "df[df[\"carbo\"] < 0]"
   ]
  },
  {
   "cell_type": "code",
   "execution_count": 11,
   "id": "da57715b",
   "metadata": {},
   "outputs": [
    {
     "data": {
      "text/html": [
       "<div>\n",
       "<style scoped>\n",
       "    .dataframe tbody tr th:only-of-type {\n",
       "        vertical-align: middle;\n",
       "    }\n",
       "\n",
       "    .dataframe tbody tr th {\n",
       "        vertical-align: top;\n",
       "    }\n",
       "\n",
       "    .dataframe thead th {\n",
       "        text-align: right;\n",
       "    }\n",
       "</style>\n",
       "<table border=\"1\" class=\"dataframe\">\n",
       "  <thead>\n",
       "    <tr style=\"text-align: right;\">\n",
       "      <th></th>\n",
       "      <th>name</th>\n",
       "      <th>mfr</th>\n",
       "      <th>type</th>\n",
       "      <th>calories</th>\n",
       "      <th>protein</th>\n",
       "      <th>fat</th>\n",
       "      <th>sodium</th>\n",
       "      <th>fiber</th>\n",
       "      <th>carbo</th>\n",
       "      <th>sugars</th>\n",
       "      <th>potass</th>\n",
       "      <th>vitamins</th>\n",
       "      <th>shelf</th>\n",
       "      <th>weight</th>\n",
       "      <th>cups</th>\n",
       "      <th>rating</th>\n",
       "    </tr>\n",
       "  </thead>\n",
       "  <tbody>\n",
       "    <tr>\n",
       "      <th>57</th>\n",
       "      <td>Quaker Oatmeal</td>\n",
       "      <td>Q</td>\n",
       "      <td>H</td>\n",
       "      <td>100</td>\n",
       "      <td>5</td>\n",
       "      <td>2</td>\n",
       "      <td>0</td>\n",
       "      <td>2.7</td>\n",
       "      <td>-1.0</td>\n",
       "      <td>-1</td>\n",
       "      <td>110</td>\n",
       "      <td>0</td>\n",
       "      <td>1</td>\n",
       "      <td>1.0</td>\n",
       "      <td>0.67</td>\n",
       "      <td>50.828392</td>\n",
       "    </tr>\n",
       "  </tbody>\n",
       "</table>\n",
       "</div>"
      ],
      "text/plain": [
       "              name mfr type  calories  protein  fat  sodium  fiber  carbo  \\\n",
       "57  Quaker Oatmeal   Q    H       100        5    2       0    2.7   -1.0   \n",
       "\n",
       "    sugars  potass  vitamins  shelf  weight  cups     rating  \n",
       "57      -1     110         0      1     1.0  0.67  50.828392  "
      ]
     },
     "execution_count": 11,
     "metadata": {},
     "output_type": "execute_result"
    }
   ],
   "source": [
    "df[df[\"sugars\"] < 0]"
   ]
  },
  {
   "cell_type": "code",
   "execution_count": 12,
   "id": "e5ee026c",
   "metadata": {},
   "outputs": [
    {
     "data": {
      "text/html": [
       "<div>\n",
       "<style scoped>\n",
       "    .dataframe tbody tr th:only-of-type {\n",
       "        vertical-align: middle;\n",
       "    }\n",
       "\n",
       "    .dataframe tbody tr th {\n",
       "        vertical-align: top;\n",
       "    }\n",
       "\n",
       "    .dataframe thead th {\n",
       "        text-align: right;\n",
       "    }\n",
       "</style>\n",
       "<table border=\"1\" class=\"dataframe\">\n",
       "  <thead>\n",
       "    <tr style=\"text-align: right;\">\n",
       "      <th></th>\n",
       "      <th>name</th>\n",
       "      <th>mfr</th>\n",
       "      <th>type</th>\n",
       "      <th>calories</th>\n",
       "      <th>protein</th>\n",
       "      <th>fat</th>\n",
       "      <th>sodium</th>\n",
       "      <th>fiber</th>\n",
       "      <th>carbo</th>\n",
       "      <th>sugars</th>\n",
       "      <th>potass</th>\n",
       "      <th>vitamins</th>\n",
       "      <th>shelf</th>\n",
       "      <th>weight</th>\n",
       "      <th>cups</th>\n",
       "      <th>rating</th>\n",
       "    </tr>\n",
       "  </thead>\n",
       "  <tbody>\n",
       "    <tr>\n",
       "      <th>4</th>\n",
       "      <td>Almond Delight</td>\n",
       "      <td>R</td>\n",
       "      <td>C</td>\n",
       "      <td>110</td>\n",
       "      <td>2</td>\n",
       "      <td>2</td>\n",
       "      <td>200</td>\n",
       "      <td>1.0</td>\n",
       "      <td>14.0</td>\n",
       "      <td>8</td>\n",
       "      <td>-1</td>\n",
       "      <td>25</td>\n",
       "      <td>3</td>\n",
       "      <td>1.0</td>\n",
       "      <td>0.75</td>\n",
       "      <td>34.384843</td>\n",
       "    </tr>\n",
       "    <tr>\n",
       "      <th>20</th>\n",
       "      <td>Cream of Wheat (Quick)</td>\n",
       "      <td>N</td>\n",
       "      <td>H</td>\n",
       "      <td>100</td>\n",
       "      <td>3</td>\n",
       "      <td>0</td>\n",
       "      <td>80</td>\n",
       "      <td>1.0</td>\n",
       "      <td>21.0</td>\n",
       "      <td>0</td>\n",
       "      <td>-1</td>\n",
       "      <td>0</td>\n",
       "      <td>2</td>\n",
       "      <td>1.0</td>\n",
       "      <td>1.00</td>\n",
       "      <td>64.533816</td>\n",
       "    </tr>\n",
       "  </tbody>\n",
       "</table>\n",
       "</div>"
      ],
      "text/plain": [
       "                      name mfr type  calories  protein  fat  sodium  fiber  \\\n",
       "4           Almond Delight   R    C       110        2    2     200    1.0   \n",
       "20  Cream of Wheat (Quick)   N    H       100        3    0      80    1.0   \n",
       "\n",
       "    carbo  sugars  potass  vitamins  shelf  weight  cups     rating  \n",
       "4    14.0       8      -1        25      3     1.0  0.75  34.384843  \n",
       "20   21.0       0      -1         0      2     1.0  1.00  64.533816  "
      ]
     },
     "execution_count": 12,
     "metadata": {},
     "output_type": "execute_result"
    }
   ],
   "source": [
    "df[df[\"potass\"] < 0]"
   ]
  },
  {
   "cell_type": "markdown",
   "id": "825e3a01",
   "metadata": {},
   "source": [
    "### Running a script to replace negative values in these columns"
   ]
  },
  {
   "cell_type": "code",
   "execution_count": 13,
   "id": "deeca5b5",
   "metadata": {},
   "outputs": [
    {
     "name": "stderr",
     "output_type": "stream",
     "text": [
      "C:\\Users\\aumpa\\AppData\\Local\\Temp\\ipykernel_17808\\1253479771.py:5: SettingWithCopyWarning: \n",
      "A value is trying to be set on a copy of a slice from a DataFrame\n",
      "\n",
      "See the caveats in the documentation: https://pandas.pydata.org/pandas-docs/stable/user_guide/indexing.html#returning-a-view-versus-a-copy\n",
      "  df[col_name].iloc[index] = 0\n"
     ]
    }
   ],
   "source": [
    "unclean_columns = [\"carbo\", \"sugars\", \"potass\"] # have negative data values\n",
    "for col_name in unclean_columns:\n",
    "    temp_list = list(df[df[col_name] < 0].index) # list of indices at which -ve values occur in the column, `col_name`\n",
    "    for index in temp_list:\n",
    "        df[col_name].iloc[index] = 0"
   ]
  },
  {
   "cell_type": "markdown",
   "id": "06a3b1c2",
   "metadata": {},
   "source": [
    "### Ensuring that all -ve values are removed"
   ]
  },
  {
   "cell_type": "code",
   "execution_count": 14,
   "id": "117f25e0",
   "metadata": {},
   "outputs": [
    {
     "data": {
      "text/html": [
       "<div>\n",
       "<style scoped>\n",
       "    .dataframe tbody tr th:only-of-type {\n",
       "        vertical-align: middle;\n",
       "    }\n",
       "\n",
       "    .dataframe tbody tr th {\n",
       "        vertical-align: top;\n",
       "    }\n",
       "\n",
       "    .dataframe thead th {\n",
       "        text-align: right;\n",
       "    }\n",
       "</style>\n",
       "<table border=\"1\" class=\"dataframe\">\n",
       "  <thead>\n",
       "    <tr style=\"text-align: right;\">\n",
       "      <th></th>\n",
       "      <th>name</th>\n",
       "      <th>mfr</th>\n",
       "      <th>type</th>\n",
       "      <th>calories</th>\n",
       "      <th>protein</th>\n",
       "      <th>fat</th>\n",
       "      <th>sodium</th>\n",
       "      <th>fiber</th>\n",
       "      <th>carbo</th>\n",
       "      <th>sugars</th>\n",
       "      <th>potass</th>\n",
       "      <th>vitamins</th>\n",
       "      <th>shelf</th>\n",
       "      <th>weight</th>\n",
       "      <th>cups</th>\n",
       "      <th>rating</th>\n",
       "    </tr>\n",
       "  </thead>\n",
       "  <tbody>\n",
       "  </tbody>\n",
       "</table>\n",
       "</div>"
      ],
      "text/plain": [
       "Empty DataFrame\n",
       "Columns: [name, mfr, type, calories, protein, fat, sodium, fiber, carbo, sugars, potass, vitamins, shelf, weight, cups, rating]\n",
       "Index: []"
      ]
     },
     "execution_count": 14,
     "metadata": {},
     "output_type": "execute_result"
    }
   ],
   "source": [
    "df[df[\"carbo\"] < 0]"
   ]
  },
  {
   "cell_type": "code",
   "execution_count": 15,
   "id": "cb73f264",
   "metadata": {},
   "outputs": [
    {
     "data": {
      "text/html": [
       "<div>\n",
       "<style scoped>\n",
       "    .dataframe tbody tr th:only-of-type {\n",
       "        vertical-align: middle;\n",
       "    }\n",
       "\n",
       "    .dataframe tbody tr th {\n",
       "        vertical-align: top;\n",
       "    }\n",
       "\n",
       "    .dataframe thead th {\n",
       "        text-align: right;\n",
       "    }\n",
       "</style>\n",
       "<table border=\"1\" class=\"dataframe\">\n",
       "  <thead>\n",
       "    <tr style=\"text-align: right;\">\n",
       "      <th></th>\n",
       "      <th>name</th>\n",
       "      <th>mfr</th>\n",
       "      <th>type</th>\n",
       "      <th>calories</th>\n",
       "      <th>protein</th>\n",
       "      <th>fat</th>\n",
       "      <th>sodium</th>\n",
       "      <th>fiber</th>\n",
       "      <th>carbo</th>\n",
       "      <th>sugars</th>\n",
       "      <th>potass</th>\n",
       "      <th>vitamins</th>\n",
       "      <th>shelf</th>\n",
       "      <th>weight</th>\n",
       "      <th>cups</th>\n",
       "      <th>rating</th>\n",
       "    </tr>\n",
       "  </thead>\n",
       "  <tbody>\n",
       "  </tbody>\n",
       "</table>\n",
       "</div>"
      ],
      "text/plain": [
       "Empty DataFrame\n",
       "Columns: [name, mfr, type, calories, protein, fat, sodium, fiber, carbo, sugars, potass, vitamins, shelf, weight, cups, rating]\n",
       "Index: []"
      ]
     },
     "execution_count": 15,
     "metadata": {},
     "output_type": "execute_result"
    }
   ],
   "source": [
    "df[df[\"sugars\"] < 0]"
   ]
  },
  {
   "cell_type": "code",
   "execution_count": 16,
   "id": "38097c17",
   "metadata": {},
   "outputs": [
    {
     "data": {
      "text/html": [
       "<div>\n",
       "<style scoped>\n",
       "    .dataframe tbody tr th:only-of-type {\n",
       "        vertical-align: middle;\n",
       "    }\n",
       "\n",
       "    .dataframe tbody tr th {\n",
       "        vertical-align: top;\n",
       "    }\n",
       "\n",
       "    .dataframe thead th {\n",
       "        text-align: right;\n",
       "    }\n",
       "</style>\n",
       "<table border=\"1\" class=\"dataframe\">\n",
       "  <thead>\n",
       "    <tr style=\"text-align: right;\">\n",
       "      <th></th>\n",
       "      <th>name</th>\n",
       "      <th>mfr</th>\n",
       "      <th>type</th>\n",
       "      <th>calories</th>\n",
       "      <th>protein</th>\n",
       "      <th>fat</th>\n",
       "      <th>sodium</th>\n",
       "      <th>fiber</th>\n",
       "      <th>carbo</th>\n",
       "      <th>sugars</th>\n",
       "      <th>potass</th>\n",
       "      <th>vitamins</th>\n",
       "      <th>shelf</th>\n",
       "      <th>weight</th>\n",
       "      <th>cups</th>\n",
       "      <th>rating</th>\n",
       "    </tr>\n",
       "  </thead>\n",
       "  <tbody>\n",
       "  </tbody>\n",
       "</table>\n",
       "</div>"
      ],
      "text/plain": [
       "Empty DataFrame\n",
       "Columns: [name, mfr, type, calories, protein, fat, sodium, fiber, carbo, sugars, potass, vitamins, shelf, weight, cups, rating]\n",
       "Index: []"
      ]
     },
     "execution_count": 16,
     "metadata": {},
     "output_type": "execute_result"
    }
   ],
   "source": [
    "df[df[\"potass\"] < 0]"
   ]
  },
  {
   "cell_type": "markdown",
   "id": "d0092d0f",
   "metadata": {},
   "source": [
    "# Relationship between numeric variables"
   ]
  },
  {
   "cell_type": "code",
   "execution_count": 17,
   "id": "e168b061",
   "metadata": {},
   "outputs": [
    {
     "data": {
      "text/html": [
       "<div>\n",
       "<style scoped>\n",
       "    .dataframe tbody tr th:only-of-type {\n",
       "        vertical-align: middle;\n",
       "    }\n",
       "\n",
       "    .dataframe tbody tr th {\n",
       "        vertical-align: top;\n",
       "    }\n",
       "\n",
       "    .dataframe thead th {\n",
       "        text-align: right;\n",
       "    }\n",
       "</style>\n",
       "<table border=\"1\" class=\"dataframe\">\n",
       "  <thead>\n",
       "    <tr style=\"text-align: right;\">\n",
       "      <th></th>\n",
       "      <th>calories</th>\n",
       "      <th>protein</th>\n",
       "      <th>fat</th>\n",
       "      <th>sodium</th>\n",
       "      <th>fiber</th>\n",
       "      <th>carbo</th>\n",
       "      <th>sugars</th>\n",
       "      <th>potass</th>\n",
       "      <th>vitamins</th>\n",
       "      <th>shelf</th>\n",
       "      <th>weight</th>\n",
       "      <th>cups</th>\n",
       "      <th>rating</th>\n",
       "    </tr>\n",
       "  </thead>\n",
       "  <tbody>\n",
       "    <tr>\n",
       "      <th>calories</th>\n",
       "      <td>1.000000</td>\n",
       "      <td>0.019066</td>\n",
       "      <td>0.498610</td>\n",
       "      <td>0.300649</td>\n",
       "      <td>-0.293413</td>\n",
       "      <td>0.252349</td>\n",
       "      <td>0.564092</td>\n",
       "      <td>-0.066678</td>\n",
       "      <td>0.265356</td>\n",
       "      <td>0.097234</td>\n",
       "      <td>0.696091</td>\n",
       "      <td>0.087200</td>\n",
       "      <td>-0.689376</td>\n",
       "    </tr>\n",
       "    <tr>\n",
       "      <th>protein</th>\n",
       "      <td>0.019066</td>\n",
       "      <td>1.000000</td>\n",
       "      <td>0.208431</td>\n",
       "      <td>-0.054674</td>\n",
       "      <td>0.500330</td>\n",
       "      <td>-0.125337</td>\n",
       "      <td>-0.324112</td>\n",
       "      <td>0.549667</td>\n",
       "      <td>0.007335</td>\n",
       "      <td>0.133865</td>\n",
       "      <td>0.216158</td>\n",
       "      <td>-0.244469</td>\n",
       "      <td>0.470618</td>\n",
       "    </tr>\n",
       "    <tr>\n",
       "      <th>fat</th>\n",
       "      <td>0.498610</td>\n",
       "      <td>0.208431</td>\n",
       "      <td>1.000000</td>\n",
       "      <td>-0.005407</td>\n",
       "      <td>0.016719</td>\n",
       "      <td>-0.318504</td>\n",
       "      <td>0.275086</td>\n",
       "      <td>0.193371</td>\n",
       "      <td>-0.031156</td>\n",
       "      <td>0.263691</td>\n",
       "      <td>0.214625</td>\n",
       "      <td>-0.175892</td>\n",
       "      <td>-0.409284</td>\n",
       "    </tr>\n",
       "    <tr>\n",
       "      <th>sodium</th>\n",
       "      <td>0.300649</td>\n",
       "      <td>-0.054674</td>\n",
       "      <td>-0.005407</td>\n",
       "      <td>1.000000</td>\n",
       "      <td>-0.070675</td>\n",
       "      <td>0.353990</td>\n",
       "      <td>0.096291</td>\n",
       "      <td>-0.032706</td>\n",
       "      <td>0.361477</td>\n",
       "      <td>-0.069719</td>\n",
       "      <td>0.308576</td>\n",
       "      <td>0.119665</td>\n",
       "      <td>-0.401295</td>\n",
       "    </tr>\n",
       "    <tr>\n",
       "      <th>fiber</th>\n",
       "      <td>-0.293413</td>\n",
       "      <td>0.500330</td>\n",
       "      <td>0.016719</td>\n",
       "      <td>-0.070675</td>\n",
       "      <td>1.000000</td>\n",
       "      <td>-0.359297</td>\n",
       "      <td>-0.141225</td>\n",
       "      <td>0.903647</td>\n",
       "      <td>-0.032243</td>\n",
       "      <td>0.297539</td>\n",
       "      <td>0.247226</td>\n",
       "      <td>-0.513061</td>\n",
       "      <td>0.584160</td>\n",
       "    </tr>\n",
       "    <tr>\n",
       "      <th>carbo</th>\n",
       "      <td>0.252349</td>\n",
       "      <td>-0.125337</td>\n",
       "      <td>-0.318504</td>\n",
       "      <td>0.353990</td>\n",
       "      <td>-0.359297</td>\n",
       "      <td>1.000000</td>\n",
       "      <td>-0.352835</td>\n",
       "      <td>-0.352861</td>\n",
       "      <td>0.257065</td>\n",
       "      <td>-0.107424</td>\n",
       "      <td>0.136016</td>\n",
       "      <td>0.365930</td>\n",
       "      <td>0.054436</td>\n",
       "    </tr>\n",
       "    <tr>\n",
       "      <th>sugars</th>\n",
       "      <td>0.564092</td>\n",
       "      <td>-0.324112</td>\n",
       "      <td>0.275086</td>\n",
       "      <td>0.096291</td>\n",
       "      <td>-0.141225</td>\n",
       "      <td>-0.352835</td>\n",
       "      <td>1.000000</td>\n",
       "      <td>0.022151</td>\n",
       "      <td>0.122000</td>\n",
       "      <td>0.096623</td>\n",
       "      <td>0.452308</td>\n",
       "      <td>-0.034450</td>\n",
       "      <td>-0.761732</td>\n",
       "    </tr>\n",
       "    <tr>\n",
       "      <th>potass</th>\n",
       "      <td>-0.066678</td>\n",
       "      <td>0.549667</td>\n",
       "      <td>0.193371</td>\n",
       "      <td>-0.032706</td>\n",
       "      <td>0.903647</td>\n",
       "      <td>-0.352861</td>\n",
       "      <td>0.022151</td>\n",
       "      <td>1.000000</td>\n",
       "      <td>0.020449</td>\n",
       "      <td>0.360974</td>\n",
       "      <td>0.416439</td>\n",
       "      <td>-0.495357</td>\n",
       "      <td>0.380534</td>\n",
       "    </tr>\n",
       "    <tr>\n",
       "      <th>vitamins</th>\n",
       "      <td>0.265356</td>\n",
       "      <td>0.007335</td>\n",
       "      <td>-0.031156</td>\n",
       "      <td>0.361477</td>\n",
       "      <td>-0.032243</td>\n",
       "      <td>0.257065</td>\n",
       "      <td>0.122000</td>\n",
       "      <td>0.020449</td>\n",
       "      <td>1.000000</td>\n",
       "      <td>0.299262</td>\n",
       "      <td>0.320324</td>\n",
       "      <td>0.128405</td>\n",
       "      <td>-0.240544</td>\n",
       "    </tr>\n",
       "    <tr>\n",
       "      <th>shelf</th>\n",
       "      <td>0.097234</td>\n",
       "      <td>0.133865</td>\n",
       "      <td>0.263691</td>\n",
       "      <td>-0.069719</td>\n",
       "      <td>0.297539</td>\n",
       "      <td>-0.107424</td>\n",
       "      <td>0.096623</td>\n",
       "      <td>0.360974</td>\n",
       "      <td>0.299262</td>\n",
       "      <td>1.000000</td>\n",
       "      <td>0.190762</td>\n",
       "      <td>-0.335269</td>\n",
       "      <td>0.025159</td>\n",
       "    </tr>\n",
       "    <tr>\n",
       "      <th>weight</th>\n",
       "      <td>0.696091</td>\n",
       "      <td>0.216158</td>\n",
       "      <td>0.214625</td>\n",
       "      <td>0.308576</td>\n",
       "      <td>0.247226</td>\n",
       "      <td>0.136016</td>\n",
       "      <td>0.452308</td>\n",
       "      <td>0.416439</td>\n",
       "      <td>0.320324</td>\n",
       "      <td>0.190762</td>\n",
       "      <td>1.000000</td>\n",
       "      <td>-0.199583</td>\n",
       "      <td>-0.298124</td>\n",
       "    </tr>\n",
       "    <tr>\n",
       "      <th>cups</th>\n",
       "      <td>0.087200</td>\n",
       "      <td>-0.244469</td>\n",
       "      <td>-0.175892</td>\n",
       "      <td>0.119665</td>\n",
       "      <td>-0.513061</td>\n",
       "      <td>0.365930</td>\n",
       "      <td>-0.034450</td>\n",
       "      <td>-0.495357</td>\n",
       "      <td>0.128405</td>\n",
       "      <td>-0.335269</td>\n",
       "      <td>-0.199583</td>\n",
       "      <td>1.000000</td>\n",
       "      <td>-0.203160</td>\n",
       "    </tr>\n",
       "    <tr>\n",
       "      <th>rating</th>\n",
       "      <td>-0.689376</td>\n",
       "      <td>0.470618</td>\n",
       "      <td>-0.409284</td>\n",
       "      <td>-0.401295</td>\n",
       "      <td>0.584160</td>\n",
       "      <td>0.054436</td>\n",
       "      <td>-0.761732</td>\n",
       "      <td>0.380534</td>\n",
       "      <td>-0.240544</td>\n",
       "      <td>0.025159</td>\n",
       "      <td>-0.298124</td>\n",
       "      <td>-0.203160</td>\n",
       "      <td>1.000000</td>\n",
       "    </tr>\n",
       "  </tbody>\n",
       "</table>\n",
       "</div>"
      ],
      "text/plain": [
       "          calories   protein       fat    sodium     fiber     carbo  \\\n",
       "calories  1.000000  0.019066  0.498610  0.300649 -0.293413  0.252349   \n",
       "protein   0.019066  1.000000  0.208431 -0.054674  0.500330 -0.125337   \n",
       "fat       0.498610  0.208431  1.000000 -0.005407  0.016719 -0.318504   \n",
       "sodium    0.300649 -0.054674 -0.005407  1.000000 -0.070675  0.353990   \n",
       "fiber    -0.293413  0.500330  0.016719 -0.070675  1.000000 -0.359297   \n",
       "carbo     0.252349 -0.125337 -0.318504  0.353990 -0.359297  1.000000   \n",
       "sugars    0.564092 -0.324112  0.275086  0.096291 -0.141225 -0.352835   \n",
       "potass   -0.066678  0.549667  0.193371 -0.032706  0.903647 -0.352861   \n",
       "vitamins  0.265356  0.007335 -0.031156  0.361477 -0.032243  0.257065   \n",
       "shelf     0.097234  0.133865  0.263691 -0.069719  0.297539 -0.107424   \n",
       "weight    0.696091  0.216158  0.214625  0.308576  0.247226  0.136016   \n",
       "cups      0.087200 -0.244469 -0.175892  0.119665 -0.513061  0.365930   \n",
       "rating   -0.689376  0.470618 -0.409284 -0.401295  0.584160  0.054436   \n",
       "\n",
       "            sugars    potass  vitamins     shelf    weight      cups    rating  \n",
       "calories  0.564092 -0.066678  0.265356  0.097234  0.696091  0.087200 -0.689376  \n",
       "protein  -0.324112  0.549667  0.007335  0.133865  0.216158 -0.244469  0.470618  \n",
       "fat       0.275086  0.193371 -0.031156  0.263691  0.214625 -0.175892 -0.409284  \n",
       "sodium    0.096291 -0.032706  0.361477 -0.069719  0.308576  0.119665 -0.401295  \n",
       "fiber    -0.141225  0.903647 -0.032243  0.297539  0.247226 -0.513061  0.584160  \n",
       "carbo    -0.352835 -0.352861  0.257065 -0.107424  0.136016  0.365930  0.054436  \n",
       "sugars    1.000000  0.022151  0.122000  0.096623  0.452308 -0.034450 -0.761732  \n",
       "potass    0.022151  1.000000  0.020449  0.360974  0.416439 -0.495357  0.380534  \n",
       "vitamins  0.122000  0.020449  1.000000  0.299262  0.320324  0.128405 -0.240544  \n",
       "shelf     0.096623  0.360974  0.299262  1.000000  0.190762 -0.335269  0.025159  \n",
       "weight    0.452308  0.416439  0.320324  0.190762  1.000000 -0.199583 -0.298124  \n",
       "cups     -0.034450 -0.495357  0.128405 -0.335269 -0.199583  1.000000 -0.203160  \n",
       "rating   -0.761732  0.380534 -0.240544  0.025159 -0.298124 -0.203160  1.000000  "
      ]
     },
     "execution_count": 17,
     "metadata": {},
     "output_type": "execute_result"
    }
   ],
   "source": [
    "df_corr = df.corr(numeric_only=True) # pearson correlation coefficient\n",
    "df_corr"
   ]
  },
  {
   "cell_type": "code",
   "execution_count": 18,
   "id": "8513de63",
   "metadata": {},
   "outputs": [
    {
     "data": {
      "text/plain": [
       "<Axes: >"
      ]
     },
     "execution_count": 18,
     "metadata": {},
     "output_type": "execute_result"
    },
    {
     "data": {
      "image/png": "[encoded data removed]",
      "text/plain": [
       "<Figure size 640x480 with 2 Axes>"
      ]
     },
     "metadata": {},
     "output_type": "display_data"
    }
   ],
   "source": [
    "sns.heatmap(\n",
    "    data = df_corr,\n",
    "    center = 0.0,\n",
    "    cmap = \"coolwarm\",\n",
    "    annot = False,\n",
    "    square = True\n",
    ")"
   ]
  },
  {
   "cell_type": "markdown",
   "id": "4c8fd67b",
   "metadata": {},
   "source": [
    "# `Observations`:\n",
    "\n",
    "Based on the above heatmap,\n",
    "\n",
    "* Customers strongly dislike foods which are high in **calories** and **sugars**.\n",
    "\n",
    "* Customers mildly like foods that are high in **fiber** and **protein**."
   ]
  },
  {
   "cell_type": "markdown",
   "id": "095f78a9",
   "metadata": {},
   "source": [
    "# `Question:` Which cereal is the people's favourite?"
   ]
  },
  {
   "cell_type": "code",
   "execution_count": 19,
   "id": "47fac652",
   "metadata": {},
   "outputs": [
    {
     "data": {
      "text/html": [
       "<div>\n",
       "<style scoped>\n",
       "    .dataframe tbody tr th:only-of-type {\n",
       "        vertical-align: middle;\n",
       "    }\n",
       "\n",
       "    .dataframe tbody tr th {\n",
       "        vertical-align: top;\n",
       "    }\n",
       "\n",
       "    .dataframe thead th {\n",
       "        text-align: right;\n",
       "    }\n",
       "</style>\n",
       "<table border=\"1\" class=\"dataframe\">\n",
       "  <thead>\n",
       "    <tr style=\"text-align: right;\">\n",
       "      <th></th>\n",
       "      <th>name</th>\n",
       "      <th>mfr</th>\n",
       "      <th>rating</th>\n",
       "    </tr>\n",
       "  </thead>\n",
       "  <tbody>\n",
       "    <tr>\n",
       "      <th>3</th>\n",
       "      <td>All-Bran with Extra Fiber</td>\n",
       "      <td>K</td>\n",
       "      <td>93.704912</td>\n",
       "    </tr>\n",
       "  </tbody>\n",
       "</table>\n",
       "</div>"
      ],
      "text/plain": [
       "                        name mfr     rating\n",
       "3  All-Bran with Extra Fiber   K  93.704912"
      ]
     },
     "execution_count": 19,
     "metadata": {},
     "output_type": "execute_result"
    }
   ],
   "source": [
    "df[df[\"rating\"] == df[\"rating\"].max()][[\"name\", \"mfr\", \"rating\"]]"
   ]
  },
  {
   "cell_type": "markdown",
   "id": "2573c108",
   "metadata": {},
   "source": [
    "# `Question:` Which company sells the most products?"
   ]
  },
  {
   "cell_type": "code",
   "execution_count": 20,
   "id": "aa406d90",
   "metadata": {},
   "outputs": [
    {
     "data": {
      "text/html": [
       "<div>\n",
       "<style scoped>\n",
       "    .dataframe tbody tr th:only-of-type {\n",
       "        vertical-align: middle;\n",
       "    }\n",
       "\n",
       "    .dataframe tbody tr th {\n",
       "        vertical-align: top;\n",
       "    }\n",
       "\n",
       "    .dataframe thead th {\n",
       "        text-align: right;\n",
       "    }\n",
       "</style>\n",
       "<table border=\"1\" class=\"dataframe\">\n",
       "  <thead>\n",
       "    <tr style=\"text-align: right;\">\n",
       "      <th></th>\n",
       "      <th>Manufacturer</th>\n",
       "      <th>No. of products</th>\n",
       "      <th>Average user rating</th>\n",
       "    </tr>\n",
       "  </thead>\n",
       "  <tbody>\n",
       "    <tr>\n",
       "      <th>A</th>\n",
       "      <td>American Home Food Products</td>\n",
       "      <td>1</td>\n",
       "      <td>54.850917</td>\n",
       "    </tr>\n",
       "    <tr>\n",
       "      <th>G</th>\n",
       "      <td>General Mills</td>\n",
       "      <td>22</td>\n",
       "      <td>34.485852</td>\n",
       "    </tr>\n",
       "    <tr>\n",
       "      <th>K</th>\n",
       "      <td>Kelloggs</td>\n",
       "      <td>23</td>\n",
       "      <td>44.038462</td>\n",
       "    </tr>\n",
       "    <tr>\n",
       "      <th>N</th>\n",
       "      <td>Nabisco</td>\n",
       "      <td>6</td>\n",
       "      <td>67.968567</td>\n",
       "    </tr>\n",
       "    <tr>\n",
       "      <th>P</th>\n",
       "      <td>Post</td>\n",
       "      <td>9</td>\n",
       "      <td>41.705744</td>\n",
       "    </tr>\n",
       "    <tr>\n",
       "      <th>Q</th>\n",
       "      <td>Quaker Oats</td>\n",
       "      <td>8</td>\n",
       "      <td>42.915990</td>\n",
       "    </tr>\n",
       "    <tr>\n",
       "      <th>R</th>\n",
       "      <td>Ralston Purina</td>\n",
       "      <td>8</td>\n",
       "      <td>41.542997</td>\n",
       "    </tr>\n",
       "  </tbody>\n",
       "</table>\n",
       "</div>"
      ],
      "text/plain": [
       "                  Manufacturer  No. of products  Average user rating\n",
       "A  American Home Food Products                1            54.850917\n",
       "G                General Mills               22            34.485852\n",
       "K                     Kelloggs               23            44.038462\n",
       "N                      Nabisco                6            67.968567\n",
       "P                         Post                9            41.705744\n",
       "Q                  Quaker Oats                8            42.915990\n",
       "R               Ralston Purina                8            41.542997"
      ]
     },
     "execution_count": 20,
     "metadata": {},
     "output_type": "execute_result"
    }
   ],
   "source": [
    "temp_dict = {\n",
    "    \"A\": \"American Home Food Products\",\n",
    "    \"G\": \"General Mills\",\n",
    "    \"K\": \"Kelloggs\",\n",
    "    \"N\": \"Nabisco\",\n",
    "    \"P\": \"Post\",\n",
    "    \"Q\": \"Quaker Oats\",\n",
    "    \"R\": \"Ralston Purina\"\n",
    "}\n",
    "temp_dict\n",
    "mfr_names = pd.Series(temp_dict)\n",
    "mfr_names\n",
    "temp1 = df.groupby(\"mfr\").count()[\"name\"]\n",
    "temp1\n",
    "temp2 = df.groupby(\"mfr\").mean(numeric_only=True)[\"rating\"]\n",
    "temp2\n",
    "temp3 = pd.concat([mfr_names, temp1, temp2], axis=1)\n",
    "temp3\n",
    "temp3 = temp3.rename(columns={0: \"Manufacturer\", \"name\": \"No. of products\", \"rating\": \"Average user rating\"})\n",
    "temp3"
   ]
  },
  {
   "cell_type": "code",
   "execution_count": 21,
   "id": "2c2b525f",
   "metadata": {},
   "outputs": [
    {
     "data": {
      "text/plain": [
       "(array([0, 1, 2, 3, 4, 5, 6]),\n",
       " [Text(0, 0, 'American Home Food Products'),\n",
       "  Text(1, 0, 'General Mills'),\n",
       "  Text(2, 0, 'Kelloggs'),\n",
       "  Text(3, 0, 'Nabisco'),\n",
       "  Text(4, 0, 'Post'),\n",
       "  Text(5, 0, 'Quaker Oats'),\n",
       "  Text(6, 0, 'Ralston Purina')])"
      ]
     },
     "execution_count": 21,
     "metadata": {},
     "output_type": "execute_result"
    },
    {
     "data": {
      "image/png": "[encoded data removed]",
      "text/plain": [
       "<Figure size 640x480 with 1 Axes>"
      ]
     },
     "metadata": {},
     "output_type": "display_data"
    }
   ],
   "source": [
    "sns.set_style(\"darkgrid\")\n",
    "sns.set_palette(\"Blues\")\n",
    "sns.barplot(x='Manufacturer', y='No. of products', data=temp3)\n",
    "plt.xticks(rotation=90)"
   ]
  },
  {
   "cell_type": "markdown",
   "id": "70d29dc6",
   "metadata": {},
   "source": [
    "### Percentage product share"
   ]
  },
  {
   "cell_type": "code",
   "execution_count": 22,
   "id": "9f157afa",
   "metadata": {},
   "outputs": [
    {
     "data": {
      "text/html": [
       "<div>\n",
       "<style scoped>\n",
       "    .dataframe tbody tr th:only-of-type {\n",
       "        vertical-align: middle;\n",
       "    }\n",
       "\n",
       "    .dataframe tbody tr th {\n",
       "        vertical-align: top;\n",
       "    }\n",
       "\n",
       "    .dataframe thead th {\n",
       "        text-align: right;\n",
       "    }\n",
       "</style>\n",
       "<table border=\"1\" class=\"dataframe\">\n",
       "  <thead>\n",
       "    <tr style=\"text-align: right;\">\n",
       "      <th></th>\n",
       "      <th>Manufacturer</th>\n",
       "      <th>No. of products</th>\n",
       "      <th>Average user rating</th>\n",
       "    </tr>\n",
       "  </thead>\n",
       "  <tbody>\n",
       "    <tr>\n",
       "      <th>A</th>\n",
       "      <td>American Home Food Products</td>\n",
       "      <td>1</td>\n",
       "      <td>54.850917</td>\n",
       "    </tr>\n",
       "    <tr>\n",
       "      <th>G</th>\n",
       "      <td>General Mills</td>\n",
       "      <td>22</td>\n",
       "      <td>34.485852</td>\n",
       "    </tr>\n",
       "    <tr>\n",
       "      <th>K</th>\n",
       "      <td>Kelloggs</td>\n",
       "      <td>23</td>\n",
       "      <td>44.038462</td>\n",
       "    </tr>\n",
       "    <tr>\n",
       "      <th>N</th>\n",
       "      <td>Nabisco</td>\n",
       "      <td>6</td>\n",
       "      <td>67.968567</td>\n",
       "    </tr>\n",
       "    <tr>\n",
       "      <th>P</th>\n",
       "      <td>Post</td>\n",
       "      <td>9</td>\n",
       "      <td>41.705744</td>\n",
       "    </tr>\n",
       "    <tr>\n",
       "      <th>Q</th>\n",
       "      <td>Quaker Oats</td>\n",
       "      <td>8</td>\n",
       "      <td>42.915990</td>\n",
       "    </tr>\n",
       "    <tr>\n",
       "      <th>R</th>\n",
       "      <td>Ralston Purina</td>\n",
       "      <td>8</td>\n",
       "      <td>41.542997</td>\n",
       "    </tr>\n",
       "  </tbody>\n",
       "</table>\n",
       "</div>"
      ],
      "text/plain": [
       "                  Manufacturer  No. of products  Average user rating\n",
       "A  American Home Food Products                1            54.850917\n",
       "G                General Mills               22            34.485852\n",
       "K                     Kelloggs               23            44.038462\n",
       "N                      Nabisco                6            67.968567\n",
       "P                         Post                9            41.705744\n",
       "Q                  Quaker Oats                8            42.915990\n",
       "R               Ralston Purina                8            41.542997"
      ]
     },
     "execution_count": 22,
     "metadata": {},
     "output_type": "execute_result"
    }
   ],
   "source": [
    "temp3"
   ]
  },
  {
   "cell_type": "code",
   "execution_count": 23,
   "id": "3125080a",
   "metadata": {},
   "outputs": [
    {
     "data": {
      "image/png": "[encoded data removed]",
      "text/plain": [
       "<Figure size 640x480 with 1 Axes>"
      ]
     },
     "metadata": {},
     "output_type": "display_data"
    }
   ],
   "source": [
    "data = temp3[\"No. of products\"].values\n",
    "keys = temp3[\"Manufacturer\"].values\n",
    "  \n",
    "# declaring exploding pie\n",
    "explode = [0.1, 0.1, 0, 0.1, 0, 0.1, 0]\n",
    "# define Seaborn color palette to use\n",
    "palette_color = sns.color_palette('husl')\n",
    "colors = [\"orangered\", \"cornflowerblue\", \"palegreen\", \"gold\", \"plum\", \"rosybrown\", \"grey\"]\n",
    "# colors=[\"orangered\", \"cornflowerblue\", \"cornflowerblue\", \"palegreen\", \"palegreen\", \"palegreen\", \"palegreen\"]\n",
    "\n",
    "plt.pie(\n",
    "    data,\n",
    "    labels=keys,\n",
    "    colors=colors,\n",
    "    autopct='%.0f%%',\n",
    "    explode = explode\n",
    ")\n",
    "\n",
    "# displaying chart\n",
    "plt.show()"
   ]
  },
  {
   "cell_type": "markdown",
   "id": "db466b48",
   "metadata": {},
   "source": [
    "# `Question:` Which company's products have a higher average-rating?"
   ]
  },
  {
   "cell_type": "code",
   "execution_count": 24,
   "id": "2d75a556",
   "metadata": {},
   "outputs": [
    {
     "data": {
      "text/plain": [
       "(array([0, 1, 2, 3, 4, 5, 6]),\n",
       " [Text(0, 0, 'American Home Food Products'),\n",
       "  Text(1, 0, 'General Mills'),\n",
       "  Text(2, 0, 'Kelloggs'),\n",
       "  Text(3, 0, 'Nabisco'),\n",
       "  Text(4, 0, 'Post'),\n",
       "  Text(5, 0, 'Quaker Oats'),\n",
       "  Text(6, 0, 'Ralston Purina')])"
      ]
     },
     "execution_count": 24,
     "metadata": {},
     "output_type": "execute_result"
    },
    {
     "data": {
      "image/png": "[encoded data removed]",
      "text/plain": [
       "<Figure size 640x480 with 1 Axes>"
      ]
     },
     "metadata": {},
     "output_type": "display_data"
    }
   ],
   "source": [
    "sns.set_style(\"darkgrid\")\n",
    "sns.color_palette(\"flare\", as_cmap=True)\n",
    "sns.barplot(x='Manufacturer', y='Average user rating', data=temp3)\n",
    "plt.xticks(rotation=90)"
   ]
  },
  {
   "cell_type": "markdown",
   "id": "d294c3fa",
   "metadata": {},
   "source": [
    "# `Question:` Which company has the highest effective rating?"
   ]
  },
  {
   "cell_type": "code",
   "execution_count": 25,
   "id": "a04d9725",
   "metadata": {},
   "outputs": [
    {
     "data": {
      "text/html": [
       "<div>\n",
       "<style scoped>\n",
       "    .dataframe tbody tr th:only-of-type {\n",
       "        vertical-align: middle;\n",
       "    }\n",
       "\n",
       "    .dataframe tbody tr th {\n",
       "        vertical-align: top;\n",
       "    }\n",
       "\n",
       "    .dataframe thead th {\n",
       "        text-align: right;\n",
       "    }\n",
       "</style>\n",
       "<table border=\"1\" class=\"dataframe\">\n",
       "  <thead>\n",
       "    <tr style=\"text-align: right;\">\n",
       "      <th></th>\n",
       "      <th>Manufacturer</th>\n",
       "      <th>No. of products</th>\n",
       "      <th>Average user rating</th>\n",
       "      <th>Rating per product</th>\n",
       "    </tr>\n",
       "  </thead>\n",
       "  <tbody>\n",
       "    <tr>\n",
       "      <th>A</th>\n",
       "      <td>American Home Food Products</td>\n",
       "      <td>1</td>\n",
       "      <td>54.850917</td>\n",
       "      <td>54.850917</td>\n",
       "    </tr>\n",
       "    <tr>\n",
       "      <th>G</th>\n",
       "      <td>General Mills</td>\n",
       "      <td>22</td>\n",
       "      <td>34.485852</td>\n",
       "      <td>1.567539</td>\n",
       "    </tr>\n",
       "    <tr>\n",
       "      <th>K</th>\n",
       "      <td>Kelloggs</td>\n",
       "      <td>23</td>\n",
       "      <td>44.038462</td>\n",
       "      <td>1.914716</td>\n",
       "    </tr>\n",
       "    <tr>\n",
       "      <th>N</th>\n",
       "      <td>Nabisco</td>\n",
       "      <td>6</td>\n",
       "      <td>67.968567</td>\n",
       "      <td>11.328095</td>\n",
       "    </tr>\n",
       "    <tr>\n",
       "      <th>P</th>\n",
       "      <td>Post</td>\n",
       "      <td>9</td>\n",
       "      <td>41.705744</td>\n",
       "      <td>4.633972</td>\n",
       "    </tr>\n",
       "    <tr>\n",
       "      <th>Q</th>\n",
       "      <td>Quaker Oats</td>\n",
       "      <td>8</td>\n",
       "      <td>42.915990</td>\n",
       "      <td>5.364499</td>\n",
       "    </tr>\n",
       "    <tr>\n",
       "      <th>R</th>\n",
       "      <td>Ralston Purina</td>\n",
       "      <td>8</td>\n",
       "      <td>41.542997</td>\n",
       "      <td>5.192875</td>\n",
       "    </tr>\n",
       "  </tbody>\n",
       "</table>\n",
       "</div>"
      ],
      "text/plain": [
       "                  Manufacturer  No. of products  Average user rating  \\\n",
       "A  American Home Food Products                1            54.850917   \n",
       "G                General Mills               22            34.485852   \n",
       "K                     Kelloggs               23            44.038462   \n",
       "N                      Nabisco                6            67.968567   \n",
       "P                         Post                9            41.705744   \n",
       "Q                  Quaker Oats                8            42.915990   \n",
       "R               Ralston Purina                8            41.542997   \n",
       "\n",
       "   Rating per product  \n",
       "A           54.850917  \n",
       "G            1.567539  \n",
       "K            1.914716  \n",
       "N           11.328095  \n",
       "P            4.633972  \n",
       "Q            5.364499  \n",
       "R            5.192875  "
      ]
     },
     "execution_count": 25,
     "metadata": {},
     "output_type": "execute_result"
    }
   ],
   "source": [
    "temp3[\"Rating per product\"] = temp3[\"Average user rating\"] / temp3[\"No. of products\"]\n",
    "temp3"
   ]
  },
  {
   "cell_type": "code",
   "execution_count": 26,
   "id": "3de79192",
   "metadata": {},
   "outputs": [
    {
     "data": {
      "text/plain": [
       "(array([0, 1, 2, 3, 4, 5, 6]),\n",
       " [Text(0, 0, 'American Home Food Products'),\n",
       "  Text(1, 0, 'General Mills'),\n",
       "  Text(2, 0, 'Kelloggs'),\n",
       "  Text(3, 0, 'Nabisco'),\n",
       "  Text(4, 0, 'Post'),\n",
       "  Text(5, 0, 'Quaker Oats'),\n",
       "  Text(6, 0, 'Ralston Purina')])"
      ]
     },
     "execution_count": 26,
     "metadata": {},
     "output_type": "execute_result"
    },
    {
     "data": {
      "image/png": "[encoded data removed]",
      "text/plain": [
       "<Figure size 640x480 with 1 Axes>"
      ]
     },
     "metadata": {},
     "output_type": "display_data"
    }
   ],
   "source": [
    "sns.set_style(\"darkgrid\")\n",
    "sns.color_palette(\"crest\", as_cmap=True)\n",
    "sns.barplot(x='Manufacturer', y='Rating per product', data=temp3)\n",
    "plt.xticks(rotation=90)"
   ]
  },
  {
   "cell_type": "markdown",
   "id": "384ec34c",
   "metadata": {},
   "source": [
    "# `Question:` How do calories vary with sugar and fat?"
   ]
  },
  {
   "cell_type": "code",
   "execution_count": 27,
   "id": "ccd84c0d",
   "metadata": {},
   "outputs": [
    {
     "data": {
      "text/html": [
       "<div>\n",
       "<style scoped>\n",
       "    .dataframe tbody tr th:only-of-type {\n",
       "        vertical-align: middle;\n",
       "    }\n",
       "\n",
       "    .dataframe tbody tr th {\n",
       "        vertical-align: top;\n",
       "    }\n",
       "\n",
       "    .dataframe thead th {\n",
       "        text-align: right;\n",
       "    }\n",
       "</style>\n",
       "<table border=\"1\" class=\"dataframe\">\n",
       "  <thead>\n",
       "    <tr style=\"text-align: right;\">\n",
       "      <th></th>\n",
       "      <th>calories</th>\n",
       "      <th>sugars</th>\n",
       "      <th>fat</th>\n",
       "    </tr>\n",
       "  </thead>\n",
       "  <tbody>\n",
       "    <tr>\n",
       "      <th>0</th>\n",
       "      <td>70</td>\n",
       "      <td>6</td>\n",
       "      <td>1</td>\n",
       "    </tr>\n",
       "    <tr>\n",
       "      <th>1</th>\n",
       "      <td>120</td>\n",
       "      <td>8</td>\n",
       "      <td>5</td>\n",
       "    </tr>\n",
       "    <tr>\n",
       "      <th>2</th>\n",
       "      <td>70</td>\n",
       "      <td>5</td>\n",
       "      <td>1</td>\n",
       "    </tr>\n",
       "    <tr>\n",
       "      <th>3</th>\n",
       "      <td>50</td>\n",
       "      <td>0</td>\n",
       "      <td>0</td>\n",
       "    </tr>\n",
       "    <tr>\n",
       "      <th>4</th>\n",
       "      <td>110</td>\n",
       "      <td>8</td>\n",
       "      <td>2</td>\n",
       "    </tr>\n",
       "    <tr>\n",
       "      <th>...</th>\n",
       "      <td>...</td>\n",
       "      <td>...</td>\n",
       "      <td>...</td>\n",
       "    </tr>\n",
       "    <tr>\n",
       "      <th>72</th>\n",
       "      <td>110</td>\n",
       "      <td>3</td>\n",
       "      <td>1</td>\n",
       "    </tr>\n",
       "    <tr>\n",
       "      <th>73</th>\n",
       "      <td>110</td>\n",
       "      <td>12</td>\n",
       "      <td>1</td>\n",
       "    </tr>\n",
       "    <tr>\n",
       "      <th>74</th>\n",
       "      <td>100</td>\n",
       "      <td>3</td>\n",
       "      <td>1</td>\n",
       "    </tr>\n",
       "    <tr>\n",
       "      <th>75</th>\n",
       "      <td>100</td>\n",
       "      <td>3</td>\n",
       "      <td>1</td>\n",
       "    </tr>\n",
       "    <tr>\n",
       "      <th>76</th>\n",
       "      <td>110</td>\n",
       "      <td>8</td>\n",
       "      <td>1</td>\n",
       "    </tr>\n",
       "  </tbody>\n",
       "</table>\n",
       "<p>77 rows × 3 columns</p>\n",
       "</div>"
      ],
      "text/plain": [
       "    calories  sugars  fat\n",
       "0         70       6    1\n",
       "1        120       8    5\n",
       "2         70       5    1\n",
       "3         50       0    0\n",
       "4        110       8    2\n",
       "..       ...     ...  ...\n",
       "72       110       3    1\n",
       "73       110      12    1\n",
       "74       100       3    1\n",
       "75       100       3    1\n",
       "76       110       8    1\n",
       "\n",
       "[77 rows x 3 columns]"
      ]
     },
     "execution_count": 27,
     "metadata": {},
     "output_type": "execute_result"
    }
   ],
   "source": [
    "temp1 = df[[\"calories\", \"sugars\", \"fat\"]]\n",
    "temp1"
   ]
  },
  {
   "cell_type": "code",
   "execution_count": 28,
   "id": "794c9951",
   "metadata": {},
   "outputs": [
    {
     "data": {
      "text/plain": [
       "<Axes: xlabel='fat', ylabel='calories'>"
      ]
     },
     "execution_count": 28,
     "metadata": {},
     "output_type": "execute_result"
    },
    {
     "data": {
      "image/png": "[encoded data removed]",
      "text/plain": [
       "<Figure size 640x480 with 1 Axes>"
      ]
     },
     "metadata": {},
     "output_type": "display_data"
    }
   ],
   "source": [
    "sns.set_style(\"darkgrid\")\n",
    "sns.color_palette(\"hls\", 8)\n",
    "sns.regplot(x='sugars', y='calories', data=temp1, color=\"red\")\n",
    "sns.regplot(x='fat', y='calories', data=temp1, color=\"blue\")"
   ]
  },
  {
   "cell_type": "markdown",
   "id": "4b090786",
   "metadata": {},
   "source": [
    "# `Question:` What percentage of cereals are to be served hot?"
   ]
  },
  {
   "cell_type": "code",
   "execution_count": 29,
   "id": "94d2889f",
   "metadata": {},
   "outputs": [
    {
     "data": {
      "text/plain": [
       "C    74\n",
       "H     3\n",
       "Name: type, dtype: int64"
      ]
     },
     "execution_count": 29,
     "metadata": {},
     "output_type": "execute_result"
    }
   ],
   "source": [
    "temp = df[\"type\"].value_counts()\n",
    "temp"
   ]
  },
  {
   "cell_type": "code",
   "execution_count": 30,
   "id": "ab8e635d",
   "metadata": {},
   "outputs": [
    {
     "data": {
      "image/png": "[encoded data removed]",
      "text/plain": [
       "<Figure size 640x480 with 1 Axes>"
      ]
     },
     "metadata": {},
     "output_type": "display_data"
    }
   ],
   "source": [
    "data = temp.values\n",
    "keys = [\"Cold\", \"Hot\"]\n",
    "  \n",
    "# declaring exploding pie\n",
    "explode = [0, 0.1]\n",
    "# define Seaborn color palette to use\n",
    "palette_color = sns.color_palette('husl')\n",
    "  \n",
    "# plotting data on chart\n",
    "# plt.pie(data, labels=keys, colors=palette_color,\n",
    "#         explode=explode, autopct='%.0f%%')\n",
    "\n",
    "plt.pie(\n",
    "    data,\n",
    "    labels=keys,\n",
    "    colors=[\"deepskyblue\", \"fuchsia\"],\n",
    "    autopct='%.0f%%',\n",
    "    explode = [0.1, 0.1]\n",
    ")\n",
    "  \n",
    "# displaying chart\n",
    "plt.show()"
   ]
  },
  {
   "cell_type": "markdown",
   "id": "6f23f8e5",
   "metadata": {},
   "source": [
    "---"
   ]
  },
  {
   "cell_type": "markdown",
   "id": "14d594a5",
   "metadata": {},
   "source": [
    "# `Question:` What should be the top 5 choices for breakfast?\n",
    "\n",
    "A good breakfast contains high amounts of fat and protein and low amount of carbs.\n",
    "\n",
    "Let's consider \"high\" to be a value greater than the 75th percentile and \"low\" to be a value lower than 25th percentile. We won't be considering absolute recommended values of nutrients, but do a relative analysis."
   ]
  },
  {
   "cell_type": "markdown",
   "id": "2d91c691",
   "metadata": {},
   "source": [
    "Finding the quartiles of protein, fat and carbo:\n",
    "\n",
    "We want **lower** quartile of `carbo`\n",
    "\n",
    "We want **higher** quartiles of `protein` and `fat`"
   ]
  },
  {
   "cell_type": "code",
   "execution_count": 31,
   "id": "aa9d22e6",
   "metadata": {},
   "outputs": [
    {
     "name": "stdout",
     "output_type": "stream",
     "text": [
      "3rd quartile of protein value = 3.0\n"
     ]
    }
   ],
   "source": [
    "df[\"protein\"].describe()\n",
    "q1 = df[\"protein\"].describe()[\"75%\"]\n",
    "print(f\"3rd quartile of protein value = {q1}\")"
   ]
  },
  {
   "cell_type": "code",
   "execution_count": 32,
   "id": "fd1eac4e",
   "metadata": {},
   "outputs": [
    {
     "name": "stdout",
     "output_type": "stream",
     "text": [
      "3rd quartile of fat value = 2.0\n"
     ]
    }
   ],
   "source": [
    "df[\"fat\"].describe()\n",
    "q2 = df[\"fat\"].describe()[\"75%\"]\n",
    "print(f\"3rd quartile of fat value = {q2}\")"
   ]
  },
  {
   "cell_type": "code",
   "execution_count": 33,
   "id": "908deaad",
   "metadata": {},
   "outputs": [
    {
     "name": "stdout",
     "output_type": "stream",
     "text": [
      "1st quartile of carbo value = 12.0\n"
     ]
    }
   ],
   "source": [
    "df[\"carbo\"].describe()\n",
    "q3 = df[\"carbo\"].describe()[\"25%\"]\n",
    "print(f\"1st quartile of carbo value = {q3}\")"
   ]
  },
  {
   "cell_type": "code",
   "execution_count": 34,
   "id": "78d016d0",
   "metadata": {},
   "outputs": [
    {
     "data": {
      "text/html": [
       "<div>\n",
       "<style scoped>\n",
       "    .dataframe tbody tr th:only-of-type {\n",
       "        vertical-align: middle;\n",
       "    }\n",
       "\n",
       "    .dataframe tbody tr th {\n",
       "        vertical-align: top;\n",
       "    }\n",
       "\n",
       "    .dataframe thead th {\n",
       "        text-align: right;\n",
       "    }\n",
       "</style>\n",
       "<table border=\"1\" class=\"dataframe\">\n",
       "  <thead>\n",
       "    <tr style=\"text-align: right;\">\n",
       "      <th></th>\n",
       "      <th>name</th>\n",
       "      <th>protein</th>\n",
       "      <th>fat</th>\n",
       "      <th>carbo</th>\n",
       "    </tr>\n",
       "  </thead>\n",
       "  <tbody>\n",
       "    <tr>\n",
       "      <th>57</th>\n",
       "      <td>Quaker Oatmeal</td>\n",
       "      <td>5</td>\n",
       "      <td>2</td>\n",
       "      <td>0.0</td>\n",
       "    </tr>\n",
       "    <tr>\n",
       "      <th>1</th>\n",
       "      <td>100% Natural Bran</td>\n",
       "      <td>3</td>\n",
       "      <td>5</td>\n",
       "      <td>8.0</td>\n",
       "    </tr>\n",
       "    <tr>\n",
       "      <th>19</th>\n",
       "      <td>Cracklin' Oat Bran</td>\n",
       "      <td>3</td>\n",
       "      <td>3</td>\n",
       "      <td>10.0</td>\n",
       "    </tr>\n",
       "    <tr>\n",
       "      <th>59</th>\n",
       "      <td>Raisin Nut Bran</td>\n",
       "      <td>3</td>\n",
       "      <td>2</td>\n",
       "      <td>10.5</td>\n",
       "    </tr>\n",
       "    <tr>\n",
       "      <th>27</th>\n",
       "      <td>Fruit &amp; Fibre Dates; Walnuts; and Oats</td>\n",
       "      <td>3</td>\n",
       "      <td>2</td>\n",
       "      <td>12.0</td>\n",
       "    </tr>\n",
       "    <tr>\n",
       "      <th>41</th>\n",
       "      <td>Life</td>\n",
       "      <td>4</td>\n",
       "      <td>2</td>\n",
       "      <td>12.0</td>\n",
       "    </tr>\n",
       "  </tbody>\n",
       "</table>\n",
       "</div>"
      ],
      "text/plain": [
       "                                      name  protein  fat  carbo\n",
       "57                          Quaker Oatmeal        5    2    0.0\n",
       "1                        100% Natural Bran        3    5    8.0\n",
       "19                      Cracklin' Oat Bran        3    3   10.0\n",
       "59                         Raisin Nut Bran        3    2   10.5\n",
       "27  Fruit & Fibre Dates; Walnuts; and Oats        3    2   12.0\n",
       "41                                    Life        4    2   12.0"
      ]
     },
     "execution_count": 34,
     "metadata": {},
     "output_type": "execute_result"
    }
   ],
   "source": [
    "temp = df[(df[\"protein\"] >= q1) & (df[\"fat\"] >= q2) & (df[\"carbo\"] <= q3)]\n",
    "temp\n",
    "temp = temp[[\"name\", \"protein\", \"fat\", \"carbo\"]].sort_values(\n",
    "    axis=\"index\",\n",
    "    by=\"carbo\",\n",
    "    ascending=True\n",
    ")\n",
    "temp"
   ]
  },
  {
   "cell_type": "code",
   "execution_count": 35,
   "id": "153e58c8",
   "metadata": {},
   "outputs": [],
   "source": [
    "temp = pd.melt(temp, id_vars=\"name\", var_name=\"Nutrient\", value_name=\"Value\") # unpivoting"
   ]
  },
  {
   "cell_type": "code",
   "execution_count": 36,
   "id": "8f742792",
   "metadata": {
    "scrolled": true
   },
   "outputs": [
    {
     "data": {
      "text/html": [
       "<div>\n",
       "<style scoped>\n",
       "    .dataframe tbody tr th:only-of-type {\n",
       "        vertical-align: middle;\n",
       "    }\n",
       "\n",
       "    .dataframe tbody tr th {\n",
       "        vertical-align: top;\n",
       "    }\n",
       "\n",
       "    .dataframe thead th {\n",
       "        text-align: right;\n",
       "    }\n",
       "</style>\n",
       "<table border=\"1\" class=\"dataframe\">\n",
       "  <thead>\n",
       "    <tr style=\"text-align: right;\">\n",
       "      <th></th>\n",
       "      <th>name</th>\n",
       "      <th>Nutrient</th>\n",
       "      <th>Value</th>\n",
       "    </tr>\n",
       "  </thead>\n",
       "  <tbody>\n",
       "    <tr>\n",
       "      <th>0</th>\n",
       "      <td>Quaker Oatmeal</td>\n",
       "      <td>protein</td>\n",
       "      <td>5.0</td>\n",
       "    </tr>\n",
       "    <tr>\n",
       "      <th>1</th>\n",
       "      <td>100% Natural Bran</td>\n",
       "      <td>protein</td>\n",
       "      <td>3.0</td>\n",
       "    </tr>\n",
       "    <tr>\n",
       "      <th>2</th>\n",
       "      <td>Cracklin' Oat Bran</td>\n",
       "      <td>protein</td>\n",
       "      <td>3.0</td>\n",
       "    </tr>\n",
       "    <tr>\n",
       "      <th>3</th>\n",
       "      <td>Raisin Nut Bran</td>\n",
       "      <td>protein</td>\n",
       "      <td>3.0</td>\n",
       "    </tr>\n",
       "    <tr>\n",
       "      <th>4</th>\n",
       "      <td>Fruit &amp; Fibre Dates; Walnuts; and Oats</td>\n",
       "      <td>protein</td>\n",
       "      <td>3.0</td>\n",
       "    </tr>\n",
       "    <tr>\n",
       "      <th>5</th>\n",
       "      <td>Life</td>\n",
       "      <td>protein</td>\n",
       "      <td>4.0</td>\n",
       "    </tr>\n",
       "    <tr>\n",
       "      <th>6</th>\n",
       "      <td>Quaker Oatmeal</td>\n",
       "      <td>fat</td>\n",
       "      <td>2.0</td>\n",
       "    </tr>\n",
       "    <tr>\n",
       "      <th>7</th>\n",
       "      <td>100% Natural Bran</td>\n",
       "      <td>fat</td>\n",
       "      <td>5.0</td>\n",
       "    </tr>\n",
       "    <tr>\n",
       "      <th>8</th>\n",
       "      <td>Cracklin' Oat Bran</td>\n",
       "      <td>fat</td>\n",
       "      <td>3.0</td>\n",
       "    </tr>\n",
       "    <tr>\n",
       "      <th>9</th>\n",
       "      <td>Raisin Nut Bran</td>\n",
       "      <td>fat</td>\n",
       "      <td>2.0</td>\n",
       "    </tr>\n",
       "  </tbody>\n",
       "</table>\n",
       "</div>"
      ],
      "text/plain": [
       "                                     name Nutrient  Value\n",
       "0                          Quaker Oatmeal  protein    5.0\n",
       "1                       100% Natural Bran  protein    3.0\n",
       "2                      Cracklin' Oat Bran  protein    3.0\n",
       "3                         Raisin Nut Bran  protein    3.0\n",
       "4  Fruit & Fibre Dates; Walnuts; and Oats  protein    3.0\n",
       "5                                    Life  protein    4.0\n",
       "6                          Quaker Oatmeal      fat    2.0\n",
       "7                       100% Natural Bran      fat    5.0\n",
       "8                      Cracklin' Oat Bran      fat    3.0\n",
       "9                         Raisin Nut Bran      fat    2.0"
      ]
     },
     "execution_count": 36,
     "metadata": {},
     "output_type": "execute_result"
    }
   ],
   "source": [
    "temp.head(10)"
   ]
  },
  {
   "cell_type": "code",
   "execution_count": 37,
   "id": "5929404a",
   "metadata": {},
   "outputs": [
    {
     "data": {
      "text/plain": [
       "Text(0, 0.5, 'Nutrient content')"
      ]
     },
     "execution_count": 37,
     "metadata": {},
     "output_type": "execute_result"
    },
    {
     "data": {
      "image/png": "[encoded data removed]",
      "text/plain": [
       "<Figure size 640x480 with 1 Axes>"
      ]
     },
     "metadata": {},
     "output_type": "display_data"
    }
   ],
   "source": [
    "ax = sns.barplot(x='name', y='Value', hue='Nutrient', data=temp, palette=\"coolwarm\")\n",
    "plt.xticks(rotation=90)\n",
    "ax.set_xlabel(\"Manufacturer\")\n",
    "ax.set_ylabel(\"Nutrient content\")"
   ]
  },
  {
   "cell_type": "markdown",
   "id": "66fb37cc",
   "metadata": {},
   "source": [
    "# `Question:` Which cereal will satisfy your daily vitamin requirements?"
   ]
  },
  {
   "cell_type": "code",
   "execution_count": 38,
   "id": "a0dd1a39",
   "metadata": {},
   "outputs": [
    {
     "data": {
      "text/html": [
       "<div>\n",
       "<style scoped>\n",
       "    .dataframe tbody tr th:only-of-type {\n",
       "        vertical-align: middle;\n",
       "    }\n",
       "\n",
       "    .dataframe tbody tr th {\n",
       "        vertical-align: top;\n",
       "    }\n",
       "\n",
       "    .dataframe thead th {\n",
       "        text-align: right;\n",
       "    }\n",
       "</style>\n",
       "<table border=\"1\" class=\"dataframe\">\n",
       "  <thead>\n",
       "    <tr style=\"text-align: right;\">\n",
       "      <th></th>\n",
       "      <th>index</th>\n",
       "      <th>name</th>\n",
       "      <th>vitamins</th>\n",
       "      <th>protein</th>\n",
       "      <th>fat</th>\n",
       "      <th>carbo</th>\n",
       "      <th>rating</th>\n",
       "    </tr>\n",
       "  </thead>\n",
       "  <tbody>\n",
       "    <tr>\n",
       "      <th>0</th>\n",
       "      <td>70</td>\n",
       "      <td>Total Raisin Bran</td>\n",
       "      <td>100</td>\n",
       "      <td>3</td>\n",
       "      <td>1</td>\n",
       "      <td>15.0</td>\n",
       "      <td>28.592785</td>\n",
       "    </tr>\n",
       "    <tr>\n",
       "      <th>1</th>\n",
       "      <td>71</td>\n",
       "      <td>Total Whole Grain</td>\n",
       "      <td>100</td>\n",
       "      <td>3</td>\n",
       "      <td>1</td>\n",
       "      <td>16.0</td>\n",
       "      <td>46.658844</td>\n",
       "    </tr>\n",
       "    <tr>\n",
       "      <th>2</th>\n",
       "      <td>39</td>\n",
       "      <td>Just Right Fruit &amp; Nut</td>\n",
       "      <td>100</td>\n",
       "      <td>3</td>\n",
       "      <td>1</td>\n",
       "      <td>20.0</td>\n",
       "      <td>36.471512</td>\n",
       "    </tr>\n",
       "    <tr>\n",
       "      <th>3</th>\n",
       "      <td>53</td>\n",
       "      <td>Product 19</td>\n",
       "      <td>100</td>\n",
       "      <td>3</td>\n",
       "      <td>0</td>\n",
       "      <td>20.0</td>\n",
       "      <td>41.503540</td>\n",
       "    </tr>\n",
       "    <tr>\n",
       "      <th>4</th>\n",
       "      <td>38</td>\n",
       "      <td>Just Right Crunchy  Nuggets</td>\n",
       "      <td>100</td>\n",
       "      <td>2</td>\n",
       "      <td>1</td>\n",
       "      <td>17.0</td>\n",
       "      <td>36.523683</td>\n",
       "    </tr>\n",
       "    <tr>\n",
       "      <th>5</th>\n",
       "      <td>69</td>\n",
       "      <td>Total Corn Flakes</td>\n",
       "      <td>100</td>\n",
       "      <td>2</td>\n",
       "      <td>1</td>\n",
       "      <td>21.0</td>\n",
       "      <td>38.839746</td>\n",
       "    </tr>\n",
       "  </tbody>\n",
       "</table>\n",
       "</div>"
      ],
      "text/plain": [
       "   index                         name  vitamins  protein  fat  carbo  \\\n",
       "0     70            Total Raisin Bran       100        3    1   15.0   \n",
       "1     71            Total Whole Grain       100        3    1   16.0   \n",
       "2     39       Just Right Fruit & Nut       100        3    1   20.0   \n",
       "3     53                   Product 19       100        3    0   20.0   \n",
       "4     38  Just Right Crunchy  Nuggets       100        2    1   17.0   \n",
       "5     69            Total Corn Flakes       100        2    1   21.0   \n",
       "\n",
       "      rating  \n",
       "0  28.592785  \n",
       "1  46.658844  \n",
       "2  36.471512  \n",
       "3  41.503540  \n",
       "4  36.523683  \n",
       "5  38.839746  "
      ]
     },
     "execution_count": 38,
     "metadata": {},
     "output_type": "execute_result"
    }
   ],
   "source": [
    "df[df[\"vitamins\"] == 100][[\"name\", \"vitamins\", \"protein\", \"fat\", \"carbo\", \"rating\"]].sort_values(\n",
    "    by = [\"protein\", \"fat\", \"carbo\", \"rating\"],\n",
    "    ascending = [False, False, True, False]\n",
    ").reset_index(inplace=False)"
   ]
  },
  {
   "cell_type": "markdown",
   "id": "4274a9f7",
   "metadata": {},
   "source": [
    "# Conclusions\n",
    "\n",
    "* Customers strongly dislike foods which are high in **calories** and **sugars**.\n",
    "\n",
    "* Customers mildly like foods that are high in **fiber** and **protein**.\n",
    "\n",
    "* **General Mills** and **Kelloggs** sell the most number of cereal products, making up **59%** of the products on the shelves.\n",
    "\n",
    "* **American Home Food Products** and **Nabisco** are reputed cereal brands.\n",
    "\n",
    "* **Nabisco** is the most reputed cereal brand with an average rating of almost **70%**\n",
    "\n",
    "* **American Home Food Products** have exceptionally high rated cereal products, with an average rating of **50%** *per product*.\n",
    "\n",
    "* High sugar and high fat content leads to high calorie content, as expected.\n",
    "\n",
    "* **96%** of the cereals sold in this supermarket are to be served **hot**.\n",
    "\n",
    "* **Quaker Oatmeal** by **Quaker Oats** is the best *high-fat* and *high-protein* cereal.\n",
    "\n",
    "* **Total Raisin Bran** by **General Mills** provides you with all the vitamins you need for the day.\n",
    "\n",
    "* **Kellogs** makes the people's most favourite cereal, **All-Bran with Extra Fiber**, with a rating of **93.7%**."
   ]
  }
 ],
 "metadata": {
  "kernelspec": {
   "display_name": "Python 3 (ipykernel)",
   "language": "python",
   "name": "python3"
  },
  "language_info": {
   "codemirror_mode": {
    "name": "ipython",
    "version": 3
   },
   "file_extension": ".py",
   "mimetype": "text/x-python",
   "name": "python",
   "nbconvert_exporter": "python",
   "pygments_lexer": "ipython3",
   "version": "3.9.16"
  }
 },
 "nbformat": 4,
 "nbformat_minor": 5
}
